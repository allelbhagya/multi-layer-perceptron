{
 "cells": [
  {
   "cell_type": "code",
   "execution_count": 34,
   "metadata": {},
   "outputs": [],
   "source": [
    "import numpy as np\n",
    "\n",
    "X = np.array([[0,0], [0,1], [1,0], [1,1]])\n",
    "y = np.array([0,1,1,0])"
   ]
  },
  {
   "cell_type": "code",
   "execution_count": 35,
   "metadata": {},
   "outputs": [],
   "source": [
    "w11, w12 = -1,1\n",
    "w21, w22 = -1,1\n",
    "w31, w32 = -1,1\n",
    "b1, b2, b3 = -1,1,-1"
   ]
  },
  {
   "cell_type": "code",
   "execution_count": 36,
   "metadata": {},
   "outputs": [],
   "source": [
    "def sigmoid(x):\n",
    "    z = 1 / (1 + np.exp(-x))\n",
    "    return z"
   ]
  },
  {
   "cell_type": "code",
   "execution_count": 37,
   "metadata": {},
   "outputs": [],
   "source": [
    "def forward(input):\n",
    "    h1 = w11 * input[0] + w12 * input[1] + b1\n",
    "    h2 = w21 * input[0] + w22 * input[1] + b2\n",
    "\n",
    "    a_h1 = sigmoid(h1)\n",
    "    a_h2 = sigmoid(h2)\n",
    "\n",
    "    a_hidden = np.array([a_h1, a_h2])\n",
    "\n",
    "    h_output = w31 * a_hidden[0] + w32 * a_hidden[1] + b3\n",
    "    predicted_forward = sigmoid(h_output)\n",
    "    return predicted_forward, a_hidden"
   ]
  },
  {
   "cell_type": "code",
   "execution_count": 38,
   "metadata": {},
   "outputs": [],
   "source": [
    "def sigmoid_derivative(z):\n",
    "    result = (z) * (1-z)\n",
    "    return result"
   ]
  },
  {
   "cell_type": "code",
   "execution_count": 39,
   "metadata": {},
   "outputs": [],
   "source": [
    "eta = 0.5"
   ]
  },
  {
   "cell_type": "code",
   "execution_count": 40,
   "metadata": {},
   "outputs": [],
   "source": [
    "\n",
    "def backward(input, predicted, hidden, y, w11, w12, w21, w22, w31, w32, b1, b2, b3):\n",
    "\n",
    "    dw31 = -1 * (y - predicted) * sigmoid_derivative(predicted) * hidden[0]\n",
    "    dw32 = -1 * (y - predicted) * sigmoid_derivative(predicted) * hidden[1]\n",
    "    db3 = -1 * (y - predicted) * sigmoid_derivative(predicted)\n",
    "\n",
    "\n",
    "    dw11 = -1 * (y - predicted) * sigmoid_derivative(predicted) * w31 * sigmoid_derivative(hidden[0]) * input[0]\n",
    "    dw12 = -1 * (y - predicted) * sigmoid_derivative(predicted) * w31 * sigmoid_derivative(hidden[0]) * input[1]\n",
    "    dw21 = -1 * (y - predicted) * sigmoid_derivative(predicted) * w32 * sigmoid_derivative(hidden[1]) * input[0]\n",
    "    dw22 = -1 * (y - predicted) * sigmoid_derivative(predicted) * w32 * sigmoid_derivative(hidden[1]) * input[1]\n",
    "    db1 = -1 * (y - predicted) * sigmoid_derivative(predicted) * w31 * sigmoid_derivative(hidden[0])\n",
    "    db2 = -1 * (y - predicted)* sigmoid_derivative(predicted) * w32 * sigmoid_derivative(hidden[1])\n",
    "\n",
    "    w31 -= eta * dw31\n",
    "    w32 -= eta * dw32\n",
    "    w11 -= eta * dw11\n",
    "    w12 -= eta * dw12\n",
    "    w21 -= eta * dw21\n",
    "    w22 -= eta * dw22\n",
    "    b1 -= eta * db1\n",
    "    b2 -= eta * db2\n",
    "    b3 -= eta * db3\n",
    "\n",
    "    return w11, w12, w21, w22, w31, w32, b1, b2, b3"
   ]
  },
  {
   "cell_type": "code",
   "execution_count": 41,
   "metadata": {},
   "outputs": [
    {
     "name": "stdout",
     "output_type": "stream",
     "text": [
      "input: [0 0] actual label: 0 predicted label: 0\n",
      "input: [0 1] actual label: 1 predicted label: 1\n",
      "input: [1 0] actual label: 1 predicted label: 1\n",
      "input: [1 1] actual label: 0 predicted label: 0\n"
     ]
    }
   ],
   "source": [
    "for epoch in range(10000):\n",
    "    for i in range(4):\n",
    "        predicted, hidden = forward(X[i])\n",
    "        w11, w12, w21, w22, w31, w32, b1, b2, b3 = backward(X[i], predicted, hidden, y[i], \n",
    "            w11, w12, w21, w22, w31, w32, b1, b2, b3)\n",
    "\n",
    "for i in range(4):\n",
    "    predicted, hidden = forward(X[i])\n",
    "    print(\"input:\", X[i],\"actual label:\",y[i],\"predicted label:\", round(predicted))"
   ]
  }
 ],
 "metadata": {
  "kernelspec": {
   "display_name": "venv",
   "language": "python",
   "name": "python3"
  },
  "language_info": {
   "codemirror_mode": {
    "name": "ipython",
    "version": 3
   },
   "file_extension": ".py",
   "mimetype": "text/x-python",
   "name": "python",
   "nbconvert_exporter": "python",
   "pygments_lexer": "ipython3",
   "version": "3.11.11"
  }
 },
 "nbformat": 4,
 "nbformat_minor": 2
}
